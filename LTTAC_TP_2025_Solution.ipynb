{
 "cells": [
  {
   "cell_type": "markdown",
   "id": "1d17c8a9-7884-46f8-b18c-12b787d1288c",
   "metadata": {},
   "source": [
    "# Utiliser la navigation web automatique pour constituer un corpus"
   ]
  },
  {
   "cell_type": "markdown",
   "id": "b5ceecd3-1dfc-47dd-928d-920ee643614a",
   "metadata": {},
   "source": [
    "**Dans cet exercice, vous allez constituer un corpus textuel à partir de données du web. Mais ces données se cachent derrière quelques obstacles : vous allez devoir mettre en place une navigation automatique avant de pouvoir y accéder !** ⛵"
   ]
  },
  {
   "cell_type": "markdown",
   "id": "a75812db-f2d0-432a-a713-31391fe13cc9",
   "metadata": {},
   "source": [
    "## Avant de commencer\n",
    "\n",
    "## Quelques mots à propos des notebooks Jupyter\n",
    "\n",
    "Ce TP se présente sous forme de notebook Jupyter. C'est un format de document interactif qui se divise en cellules de différents types. \n",
    "\n",
    "Dans cet exercice, vous allez rencontrer :\n",
    "\n",
    "* Des cellules `Markdown`, qui contiennent du texte structuré au format markdown. Ces cellules correspondent aux consignes et explications.\n",
    "* Des cellules `Code`, qui contiennent du code en Python que vous pouvez exécuter en exécutant la cellule correspondante. \n",
    "\n",
    "Pour exécuter une cellule, vous pouvez utiliser différentes méthodes :\n",
    "\n",
    "* Appuyer sur `Shift` + `Enter` pour exécuter la cellule courante et passer à la cellule suivante.\n",
    "* Appuyer sur `Ctrl` + `Enter` pour exécuter la cellule courante sans passer à la cellule suivante.\n",
    "* Cliquer sur le bouton ▶️ pour exécuter la cellule courante et passer à la cellule suivante (équivalent à `Shift` + `Enter`).\n",
    "\n",
    "✍️ ***Le contenu du notebook est entièrement interactif et modifiable : selon vos besoins, vous pouvez modifier le contenu des cellules, ajouter de nouvelles cellules, réorganiser ou supprimer des cellules existantes. N'hésitez pas à faire des essais et ajouter vos annotations !***\n",
    "\n",
    "## Quelques mots à propos de Python\n",
    "\n",
    "Nous n'avons ni l'espace ni le temps pour une introduction complète à Python, mais voici ce dont vous avez besoin pour réaliser l'exercice."
   ]
  },
  {
   "cell_type": "markdown",
   "id": "3e4688f0-03ec-4c2f-b82b-af8246f409a2",
   "metadata": {},
   "source": [
    "### Librairies et modules\n",
    "\n",
    "Les *modules* sont des fichiers Python préexistants que vous pouvez importer dans votre propre programme avec l'instruction `import`. Les modules peuvent être regroupés en *librairies*. Certains modules font partie de la librairie standard de Python, c'est-à-dire qu'ils sont préinstallés et peuvent directement être importés dans tout programme Python. Pour les autres modules et librairies, il faudra les installer dans votre environnement avant de pouvoir les importer."
   ]
  },
  {
   "cell_type": "markdown",
   "id": "def531c7-1786-4069-bf76-ba9b786c28dd",
   "metadata": {},
   "source": [
    "### Types de données\n",
    "\n",
    "Parmi les nombreux [types de données](https://docs.python.org/fr/3.13/library/datatypes.html) disponibles, vous allez manipuler trois types natifs de Python : `str`, `list` et `dict`.\n",
    "\n",
    "#### Chaînes de caractères (type `str`)\n",
    "\n",
    "Le type `str` correspond aux chaînes de caractères ([documentation](https://docs.python.org/fr/3.13/library/stdtypes.html#str)). Pour déclarer une nouvelle chaîne de caractères, celle-ci doit être entourée de guillemets (`\"\"` ou `''`).\n",
    "\n",
    "Par exemple :"
   ]
  },
  {
   "cell_type": "code",
   "execution_count": null,
   "id": "8bca90d7-446d-4c58-ad09-3bb9f5ce38ec",
   "metadata": {},
   "outputs": [],
   "source": [
    "petite_loutre = \"La loutre cendrée est la plus petite des loutres.\""
   ]
  },
  {
   "cell_type": "code",
   "execution_count": null,
   "id": "c27e9101-da9f-4280-8b71-66e953777210",
   "metadata": {},
   "outputs": [],
   "source": [
    "grande_loutre = 'La loutre géante est la plus grande des loutres.'"
   ]
  },
  {
   "cell_type": "markdown",
   "id": "6d3c2327-09e0-449f-ac39-71e9b69ce536",
   "metadata": {},
   "source": [
    "Il est possible de concaténer des chaînes de caractères avec l'opérateur `+`."
   ]
  },
  {
   "cell_type": "code",
   "execution_count": null,
   "id": "75a1be97-f00d-4ca6-8462-4c81a1c1e0d0",
   "metadata": {},
   "outputs": [],
   "source": [
    "petite_loutre + grande_loutre"
   ]
  },
  {
   "cell_type": "markdown",
   "id": "b50a48bc-b34c-4217-bf7d-7b838ea52cd0",
   "metadata": {},
   "source": [
    "Les deux chaînes ont été concaténées l'une à l'autre, mais il manque quelque chose, non ? Éditez la cellule ci-dessus pour ajouter un caractère *espace* entre les deux.\n",
    "\n",
    "Une autre façon de concaténer des `str`, notamment lorsqu'elles sont associées à des variables, est d'utiliser les *f-strings*. Il s'agit de chaînes formatées, qui se déclarent en ajoutant un *f* devant les guillemets (`f\"\"` ou `f''`). Pour y intégrer la valeur de variables, il faut entourer d'accolades (`{}`) le nom de la variable."
   ]
  },
  {
   "cell_type": "code",
   "execution_count": null,
   "id": "3a8274f1-7021-4854-97b9-ad0468f48446",
   "metadata": {},
   "outputs": [],
   "source": [
    "# Solution\n",
    "petite_loutre + \" \" + grande_loutre"
   ]
  },
  {
   "cell_type": "code",
   "execution_count": null,
   "id": "f19cdd78-6176-482d-abe9-6d3118674849",
   "metadata": {},
   "outputs": [],
   "source": [
    "message = f\"Vous voulez apprendre quelque chose à propos des loutres ?\\n\\n{petite_loutre} {grande_loutre}\"\n",
    "print(message)"
   ]
  },
  {
   "cell_type": "markdown",
   "id": "dd751b3e-cabe-4d81-b7bb-88d9e2a6c30b",
   "metadata": {},
   "source": [
    "#### Listes (type `list`)\n",
    "\n",
    "Le type `list` correspond aux listes simples ([documentation](https://docs.python.org/fr/3.13/library/stdtypes.html#list)). Pour déclarer une liste, il faut l'entourer de crochets : `[]` permet de déclarer une nouvelle liste vide, mais il est également possible d'y inclure des éléments.\n",
    "\n",
    "Par exemple :"
   ]
  },
  {
   "cell_type": "code",
   "execution_count": null,
   "id": "387f08de-ded0-41cf-a83b-a6dea5078d28",
   "metadata": {},
   "outputs": [],
   "source": [
    "loutres = [\"loutre cendrée\", \"loutre d'Europe\", \"loutre à cou tacheté\", \"loutre de mer\", \"loutre de rivière\", \"loutre du Chili\", \"loutre géante\"]"
   ]
  },
  {
   "cell_type": "code",
   "execution_count": null,
   "id": "19e7f233-d863-418b-98a2-8c8cc7cf7047",
   "metadata": {},
   "outputs": [],
   "source": [
    "loutres"
   ]
  },
  {
   "cell_type": "markdown",
   "id": "adcb6c69-4279-4805-8cde-e2b175f8ccac",
   "metadata": {},
   "source": [
    "Les éléments des listes ont un indice, qui débute à 0.\n",
    "\n",
    "Premier élément de la liste `loutres` :"
   ]
  },
  {
   "cell_type": "code",
   "execution_count": null,
   "id": "cfe0b7cd-740e-4eca-ae79-89c9ee56a148",
   "metadata": {},
   "outputs": [],
   "source": [
    "loutres[0]"
   ]
  },
  {
   "cell_type": "markdown",
   "id": "ba374e4a-8948-4c7f-a493-8fb4a060483d",
   "metadata": {},
   "source": [
    "Dernier élément de la liste `loutres` :"
   ]
  },
  {
   "cell_type": "code",
   "execution_count": null,
   "id": "3cca3591-e432-4205-937b-990c05df8f51",
   "metadata": {},
   "outputs": [],
   "source": [
    "loutres[-1]"
   ]
  },
  {
   "cell_type": "markdown",
   "id": "98b7dc52-1981-40c8-a8c0-05cdce7d4d57",
   "metadata": {},
   "source": [
    "Plusieurs éléments de la liste `loutres`, du quatrième au sixième :"
   ]
  },
  {
   "cell_type": "code",
   "execution_count": null,
   "id": "1b00036a-3a7d-447a-83bf-d923bab152a1",
   "metadata": {},
   "outputs": [],
   "source": [
    "loutres[3:6]"
   ]
  },
  {
   "cell_type": "markdown",
   "id": "39aa7511-b4d3-4112-b6e6-13f59a2bbbc4",
   "metadata": {},
   "source": [
    "Plusieurs éléménts de la liste `loutres`, à partir du deuxième :"
   ]
  },
  {
   "cell_type": "code",
   "execution_count": null,
   "id": "2bff849c-6dbe-4459-ac81-ec1645146c24",
   "metadata": {},
   "outputs": [],
   "source": [
    "loutres[1:]"
   ]
  },
  {
   "cell_type": "markdown",
   "id": "882658cd-d78b-4d6c-a331-f39fe0deab89",
   "metadata": {},
   "source": [
    "Plusieurs éléments de la liste `loutres`, jusqu'au sixième :"
   ]
  },
  {
   "cell_type": "code",
   "execution_count": null,
   "id": "a22a6910-6e43-4630-b03b-a081a9d7d133",
   "metadata": {},
   "outputs": [],
   "source": [
    "loutres[:6]"
   ]
  },
  {
   "cell_type": "markdown",
   "id": "55324d93-d026-481d-bf99-2aab1fcbb3e0",
   "metadata": {},
   "source": [
    "#### Dictionnaires (type `dict`)\n",
    "\n",
    "Le type `dict` correspond aux dictionnaires ([documentation](https://docs.python.org/fr/3.13/library/stdtypes.html#dict)) : il s'agit de listes associatives, permettant d'établir une correspondance entre des clés et des valeurs. Pour déclarer un nouveau dictionnaire il faut l'entourer d'accolades (`{}`). `{}` permet de déclarer un nouveau dictionnaire vide, mais comme pour les `list`, il est possible de l'instancier avec des éléments. Il faudra alors utiliser la syntaxe suivante :\n",
    "\n",
    "```python\n",
    "mon_dictionnaire = {clé1: valeur1,\n",
    "                   clé2: valeur2,\n",
    "                   clé3: valeur3} # (etc.)\n",
    "```\n",
    "\n",
    "Voici par exemple un dictionnaire `dict` représentant la classification de la loutre d'Europe (cf [*Loutre d'Europe* sur Wikipédia](https://fr.wikipedia.org/wiki/Loutre_d%27Europe)) :"
   ]
  },
  {
   "cell_type": "code",
   "execution_count": null,
   "id": "76298e93-0bf8-4d98-9812-f6672cdaefeb",
   "metadata": {},
   "outputs": [],
   "source": [
    "loutre_d_europe = {\"Règne\": \"Animalia\",\n",
    "                   \"Embranchement\": \"Chordata\",\n",
    "                   \"Sous-embranchement\": \"Vertebrata\",\n",
    "                   \"Classe\": \"Mammalia\",\n",
    "                   \"Sous-classe\": \"Theria\",\n",
    "                   \"Super-ordre\": \"Eutheria\",\n",
    "                   \"Ordre\": \"Carnivora\",\n",
    "                   \"Sous-ordre\": \"Caniformia\",\n",
    "                   \"Famille\": \"Mustelidae\",\n",
    "                   \"Sous-famille\": \"Lutrinae\",\n",
    "                   \"Genre\": \"Lutra\"}"
   ]
  },
  {
   "cell_type": "markdown",
   "id": "39ca660d-87fd-43ef-8ac5-2e031a1d9d41",
   "metadata": {},
   "source": [
    "On peut retrouver la valeur correspondant à une clé donnée avec la syntaxe `nom_dictionnaire[clé]`."
   ]
  },
  {
   "cell_type": "code",
   "execution_count": null,
   "id": "a6101392-4002-45f7-ac21-2b9b279540ee",
   "metadata": {},
   "outputs": [],
   "source": [
    "loutre_d_europe[\"Famille\"]"
   ]
  },
  {
   "cell_type": "markdown",
   "id": "8cde5884-5f86-4e3e-bc5d-a9ce6e70439f",
   "metadata": {},
   "source": [
    "### Fonctions et méthodes\n",
    "\n",
    "Comme dans d'autres langages de programmation, en Python une *fonction* est un bloc d'instructions qui peut être réutilisé à différents endroits du code. Une fonction peut prendre des paramètres ou non, et doit être déclarée avant de pouvoir être appelée dans le programme. \n",
    "\n",
    "Une *méthode* est une fonction propre à une classe d'objets. Elle agit sur les instances issues de cette classe et doit être déclarée à l'intérieur de la classe.\n",
    "\n",
    "#### Appeler une fonction ou une méthode\n",
    "\n",
    "La syntaxe n'est pas la même selon si ce qu'on veut utiliser est une fonction ou une méthode.\n",
    "\n",
    "Appeler une fonction se fait avec la syntaxe `nom_fonction()` si la fonction ne prend pas de paramètres, et `nom_fonction(paramètres)` si elle en prend.\n",
    "\n",
    "Par exemple, la fonction `len()` ([documentation](https://docs.python.org/3/library/functions.html#len)) qui renvoie la longueur de l'objet qu'on lui passe en paramètre :"
   ]
  },
  {
   "cell_type": "code",
   "execution_count": null,
   "id": "f27ce92f-cb2e-46db-a9e3-ebaa2fd1baaf",
   "metadata": {},
   "outputs": [],
   "source": [
    "len(loutres)"
   ]
  },
  {
   "cell_type": "code",
   "execution_count": null,
   "id": "c23c6ee4-3bbe-4c1a-bd3e-530dd512ebc6",
   "metadata": {},
   "outputs": [],
   "source": [
    "len(\"Les loutres de mer ont une poche où elles rangent leur caillou préféré.\")"
   ]
  },
  {
   "cell_type": "markdown",
   "id": "d6b63de5-121d-4735-9fe9-0cc9ca3e1cd7",
   "metadata": {},
   "source": [
    "Les méthodes s'appliquant aux instances d'une classe d'objets donnée, la syntaxe pour appeler une méthode est `nom_instance.nom_méthode()` si la méthode ne prend pas de paramètres, et `nom_instance.nom_méthode(paramètres)` si elle en prend.\n",
    "\n",
    "Par exemple, la classe `str` comporte une méthode `replace()` qui permet de remplacer une sous-chaîne de caractères. Elle prend en paramètres obligatoires la sous-chaîne à remplacer, et la suite de caractères à lui substituer :"
   ]
  },
  {
   "cell_type": "code",
   "execution_count": null,
   "id": "2f39b304-c666-44be-a4ac-3c2a3044b7e3",
   "metadata": {},
   "outputs": [],
   "source": [
    "loutre = \"Loutre d'Europe\"\n",
    "loutre.replace(\"d'Europe\", \"cendrée\")"
   ]
  },
  {
   "cell_type": "markdown",
   "id": "e1029bf9-20f5-4da9-bb49-144d95318113",
   "metadata": {},
   "source": [
    "Une autre méthode de la classe `str`est `split()`, qui renvoie une liste (type `list`) représentant le texte segmenté suivant un séparateur donné.\n",
    "\n",
    "Sans paramètre, l'espace est le séparateur par défaut :"
   ]
  },
  {
   "cell_type": "code",
   "execution_count": null,
   "id": "1ae11dff-a043-4b3b-ae6f-d9cb984f6b3e",
   "metadata": {},
   "outputs": [],
   "source": [
    "texte = \"Les loutres de mer font partie de la famille des mustélidés.\"\n",
    "texte.split()"
   ]
  },
  {
   "cell_type": "markdown",
   "id": "c9148745-d999-45e2-8d29-268fa6d36d3b",
   "metadata": {},
   "source": [
    "Mais il est aussi possible de passer en paramètre un caractère ou une chaîne de caractères au choix, qui deviendra alors le séparateur :"
   ]
  },
  {
   "cell_type": "code",
   "execution_count": null,
   "id": "938e36af-a75b-4e3c-9067-228864c0d653",
   "metadata": {},
   "outputs": [],
   "source": [
    "texte.split(\"de\")"
   ]
  },
  {
   "cell_type": "markdown",
   "id": "b38a9190-3a06-4965-867d-7286ccb9b75d",
   "metadata": {},
   "source": [
    "La classe `list` a une méthode `append()` qui permet d'ajouter un élément à la fin de la liste. Elle prend en paramètre obligatoire l'élément à ajouter."
   ]
  },
  {
   "cell_type": "code",
   "execution_count": null,
   "id": "2dbb34db-f1fe-48a8-8a95-e794aad02d08",
   "metadata": {},
   "outputs": [],
   "source": [
    "loutres.append(\"Moustillon\")"
   ]
  },
  {
   "cell_type": "code",
   "execution_count": null,
   "id": "3b1c8360-d47b-408b-aa8e-c47e044b0bd8",
   "metadata": {},
   "outputs": [],
   "source": [
    "loutres"
   ]
  },
  {
   "cell_type": "markdown",
   "id": "13dd6822-84b7-4f28-8c0a-5d3c02c7ef6b",
   "metadata": {},
   "source": [
    "... Et une méthode `pop()` qui supprime le dernier élément de la liste si on ne lui donne pas de paramètre :"
   ]
  },
  {
   "cell_type": "code",
   "execution_count": null,
   "id": "74a415f7-78ff-453a-80ce-af8ee07e0ef4",
   "metadata": {},
   "outputs": [],
   "source": [
    "loutres.pop()"
   ]
  },
  {
   "cell_type": "markdown",
   "id": "f584f6f7-94ea-462a-a678-56721dae4442",
   "metadata": {},
   "source": [
    "(vous remarquerez qu'elle renvoie également la valeur de l'élément supprimé de la liste)"
   ]
  },
  {
   "cell_type": "code",
   "execution_count": null,
   "id": "f45856c3-7364-4d41-94dd-9ec0c0f835ef",
   "metadata": {},
   "outputs": [],
   "source": [
    "loutres"
   ]
  },
  {
   "cell_type": "markdown",
   "id": "1e94a0da-4046-4481-b5c0-b305825fa9fa",
   "metadata": {},
   "source": [
    "#### Définir une fonction\n",
    "\n",
    "La définition d'une fonction se fait avec l'instruction `def`. En Python, **les indentations structurent le code et sont obligatoires**, il est donc impératif d'indenter correctement les instructions qui font partie de la fonction. "
   ]
  },
  {
   "cell_type": "code",
   "execution_count": null,
   "id": "d08bd52f-a379-4afd-a5e7-6a5a70faa193",
   "metadata": {},
   "outputs": [],
   "source": [
    "def bienvenue():\n",
    "    print(\"Bonjour et bienvenue dans le fan-club des loutres cendrées !\")"
   ]
  },
  {
   "cell_type": "markdown",
   "id": "f5ddfa88-0679-47a8-908f-d73655b1b485",
   "metadata": {},
   "source": [
    "Maintenant que la fonction est définie, elle peut être appelée avec `bienvenue()`."
   ]
  },
  {
   "cell_type": "code",
   "execution_count": null,
   "id": "c3667a4b-dcee-49d7-a923-ac82a8615f41",
   "metadata": {},
   "outputs": [],
   "source": [
    "bienvenue()"
   ]
  },
  {
   "cell_type": "markdown",
   "id": "1e5438ad-87f5-4a29-9c87-4e66af6f07b4",
   "metadata": {},
   "source": [
    "Petite modification de la fonction `bienvenue()` en ajoutant un paramètre :"
   ]
  },
  {
   "cell_type": "code",
   "execution_count": null,
   "id": "af85afd2-7322-4969-9ad6-6adf0c6f6798",
   "metadata": {},
   "outputs": [],
   "source": [
    "def bienvenue(nom):\n",
    "    print(f\"Bonjour et bienvenue dans le fan-club des loutres cendrées, {nom} !\")"
   ]
  },
  {
   "cell_type": "code",
   "execution_count": null,
   "id": "132416f1-66d5-4d0e-a22e-d240a0290fad",
   "metadata": {},
   "outputs": [],
   "source": [
    "bienvenue(\"Moustillon\")"
   ]
  },
  {
   "cell_type": "markdown",
   "id": "45a438d0-76fd-47ab-81cf-b833b0603d39",
   "metadata": {},
   "source": [
    "Pour information, une méthode se déclare de la même façon mais à l'intérieur de la définition d'une classe.\n",
    "\n",
    "***Vous n'aurez pas besoin de définir de classe ni de méthode dans cet exercice, et la définition de fonctions sera facultative.***"
   ]
  },
  {
   "cell_type": "markdown",
   "id": "12939858-95e5-4d55-84f1-55f90ea633e6",
   "metadata": {},
   "source": [
    "### Boucles et conditions"
   ]
  },
  {
   "cell_type": "markdown",
   "id": "6d920107-db4c-4fa0-aaba-8a1e92fdaa37",
   "metadata": {},
   "source": [
    "La boucle `for` permet de parcourir des séquences, telles que des listes (`list`) ou des chaînes de caractères (`str`)."
   ]
  },
  {
   "cell_type": "code",
   "execution_count": null,
   "id": "e648ea4a-a273-4994-9253-a1925af5cd2b",
   "metadata": {},
   "outputs": [],
   "source": [
    "for loutre in loutres:\n",
    "    print(loutre)"
   ]
  },
  {
   "cell_type": "code",
   "execution_count": null,
   "id": "3bb43127-5c11-4dc0-ae7c-0c8a6f016a1a",
   "metadata": {},
   "outputs": [],
   "source": [
    "for i in range(len(loutres)):\n",
    "    print(f\"Loutre n°{i+1} : {loutres[i]}\")"
   ]
  },
  {
   "cell_type": "markdown",
   "id": "6ad4b1d6-ff94-4c41-9d15-548889e98a57",
   "metadata": {},
   "source": [
    "Ici aussi l'indentation est très importante. Il en est de même avec les conditions, où il faudra indenter les instructions à effectuer si la condition est réalisée. \n",
    "\n",
    "Exemple avec `if/else`:"
   ]
  },
  {
   "cell_type": "code",
   "execution_count": null,
   "id": "7e0a2997-3339-43cd-a070-bfac635454fc",
   "metadata": {},
   "outputs": [],
   "source": [
    "ma_loutre = \"Moustillon\"\n",
    "\n",
    "print(f\"Loutre = {ma_loutre}\")\n",
    "\n",
    "if ma_loutre in loutres:\n",
    "    print(\"Cette loutre est bien enregistrée dans la base de données des loutres.\")\n",
    "else:\n",
    "    print(f\"Cette loutre n'est pas enregistrée dans la base de données des loutres.\")\n",
    "    print(f'Voulez-vous ajouter \"{ma_loutre}\" à la base de données ?')"
   ]
  },
  {
   "cell_type": "markdown",
   "id": "84f31598-2871-4f9e-8feb-a14a93853bd2",
   "metadata": {},
   "source": [
    "## Objectifs\n",
    "\n",
    "Votre objectif principal est de **produire un corpus textuel multilingue à partir de données du web** afin de comparer différentes versions d'un même texte.\n",
    "\n",
    "Vous disposez de l'URL d'un site web qui regroupe toutes les données dont vous avez besoin : https://alxdrdelaporte.github.io/works/manchot_empereur.html.\n",
    "\n",
    "Pour gagner du temps et limiter les risques d'erreur, vous décidez de les collecter automatiquement à l'aide d'un programme en Python. Le problème ? Les textes ne sont pas directement affichés sur la page ! Pour les consulter, il faut d'abord interagir avec la page web : compléter un formulaire, cliquer sur des boutons... Facile à faire en navigant manuellement, mais l'opération peut devenir extrêment longue et fastidieuse, surtout si les textes sont nombreux. \n",
    "\n",
    "Comme les textes que vous voulez extraire ne figurent pas dans le code source de la page, les [techniques \"classiques\" de web-scraping](https://github.com/alxdrdelaporte/LTTAC_2023_TP/tree/main) ne fonctionnent pas. Êtes-vous alors condamné(e) à *remplir-le-champ-texte-puis-cocher-la-case-puis-cliquer-sur-le-bouton-du-formulaire-puis-cliquer-sur-le-bouton-qui-ouvre-le-pop-up-puis-copier-coller-le-texte-puis-fermer-le-pop-up-puis-recommencer* éternellement ? Que nenni. Il est quand même possible d'effectuer cette tâche automatiquement grâce à un navigateur virtuel.\n",
    "\n",
    "Voici les étapes à suivre :\n",
    "\n",
    "1. Déclarer un navigateur virtuel pour accéder à la page de départ.\n",
    "2. Compléter et valider le formulaire pour accéder à la liste des textes disponibles.\n",
    "3. Ouvrir chaque fenêtre de texte pour en récupérer le contenu.\n",
    "4. Traiter les données textuelles obtenues.\n",
    "\n",
    "C'est parti ! 🚀"
   ]
  },
  {
   "cell_type": "markdown",
   "id": "898b7f79-2811-4bdf-b44d-89a676a77bdd",
   "metadata": {},
   "source": [
    "## Installation\n",
    "\n",
    "Si vous utilisez votre propre installation pour réaliser cet exercice, vous aurez besoin d'y ajouter `selenium` et `webdriver-manager` en utilisant les commandes montrées ci-dessous.\n",
    "\n",
    "Avec Conda :\n",
    "\n",
    "```cmd\n",
    "conda install conda-forge::selenium\n",
    "conda install conda-forge::webdriver-manager\n",
    "```\n",
    "\n",
    "Avec Pip :\n",
    "\n",
    "```cmd\n",
    "pip install selenium\n",
    "pip install webdriver-manager\n",
    "```\n",
    "\n",
    "Si ce n'est pas le cas (par exemple, si vous avez ouvert ce notebook via [Binder](https://mybinder.org/)) vous pouvez ignorer cette étape."
   ]
  },
  {
   "cell_type": "markdown",
   "id": "148e7c57-5af4-4fe3-8b9c-66b0a9ad4e56",
   "metadata": {},
   "source": [
    "## Imports"
   ]
  },
  {
   "cell_type": "markdown",
   "id": "191274b6-8090-4cae-a0ad-0163c616d5d0",
   "metadata": {},
   "source": [
    "Exécutez la cellule ci-dessous pour importer les librairies et modules dont vous aurez besoin."
   ]
  },
  {
   "cell_type": "code",
   "execution_count": null,
   "id": "18b99d44-ddce-404f-aaa6-20e641ddf8b8",
   "metadata": {},
   "outputs": [],
   "source": [
    "# Selenium\n",
    "from selenium import webdriver\n",
    "from selenium.webdriver.common.keys import Keys\n",
    "from selenium.webdriver.common.by import By\n",
    "from selenium.webdriver.firefox.service import Service\n",
    "\n",
    "# Webdriver manager\n",
    "from webdriver_manager.firefox import GeckoDriverManager"
   ]
  },
  {
   "cell_type": "markdown",
   "id": "3e22f87a-0464-4e6d-b13a-ba84ff14b539",
   "metadata": {},
   "source": [
    "## Déclarer un navigateur virtuel pour accéder à la page de départ\n",
    "\n",
    "### Se familiariser avec la navigation automatique\n",
    "\n",
    "Nous allons d'abord faire un essai pour tester la navigation automatique sur une tâche simple.\n",
    "\n",
    "Voici une fonction permettant de déclarer un nouvel objet `webdriver.Firefox()`, issu de la librairie `selenium`. Celui-ci simule un navigateur web Firefox et va permettre de mettre en place la navigation automatique.\n",
    "\n",
    "Cette fonction est prête à être utilisée, exécutez la cellule ci-dessous sans la modifier. "
   ]
  },
  {
   "cell_type": "code",
   "execution_count": null,
   "id": "27e674c3-5980-485c-b3d0-edcadb264581",
   "metadata": {},
   "outputs": [],
   "source": [
    "def set_driver():\n",
    "    \"\"\"Crée un webdriver Firefox avec option headless\"\"\"\n",
    "    options = webdriver.FirefoxOptions()\n",
    "    options.add_argument(\"--headless\")\n",
    "    new_driver = webdriver.Firefox(service=Service(GeckoDriverManager().install()), options=options)\n",
    "    return new_driver"
   ]
  },
  {
   "cell_type": "markdown",
   "id": "8d783c54-fc20-4048-804c-836ef21f5b01",
   "metadata": {},
   "source": [
    "La fonction `set_driver()` est maintenant disponible pour créer un nouveau webdriver, c'est-à-dire un navigateur virtuel. \n",
    "\n",
    "Stocker le résultat de `set_driver()` dans une variable va permettre de manipuler le webdriver et lui envoyer des commandes. Dans la cellule ci-dessous, déclarez une variable `driver` et associez-lui le résultat de la fonction `set_driver()`."
   ]
  },
  {
   "cell_type": "code",
   "execution_count": null,
   "id": "4deb528b-9ff5-4cbf-b5ff-e7d422b830e6",
   "metadata": {},
   "outputs": [],
   "source": [
    "driver = set_driver() "
   ]
  },
  {
   "cell_type": "markdown",
   "id": "ba101d89-cfdd-4d65-8c74-50c7789781ff",
   "metadata": {},
   "source": [
    "Si tout s'est bien passé, `driver` peut accéder à des pages web et en lire le contenu. C'est ce à quoi sert la méthode `get()`, qui prend en paramètre une chaîne de caractères correspondant à l'URL à interroger.\n",
    "\n",
    "Dans la cellule suivante, utilisez `get()` pour accéder à [ce site](https://alxdrdelaporte.github.io/).\n",
    "\n",
    "* Il s'agit d'une méthode de `driver`, la syntaxe à utiliser sera donc `driver.get(url)`.\n",
    "* Selon votre préférence, vous pouvez ou non préalablement associer l'URL à une variable."
   ]
  },
  {
   "cell_type": "code",
   "execution_count": null,
   "id": "f79c24d0-4ece-496e-aef4-837e20a2819f",
   "metadata": {},
   "outputs": [],
   "source": [
    "driver.get(\"https://alxdrdelaporte.github.io\")"
   ]
  },
  {
   "cell_type": "markdown",
   "id": "fb3230af-041f-4024-8fa5-cdaccca34d1c",
   "metadata": {},
   "source": [
    "En l'état, difficile de savoir si ça a fonctionné ou non. Essayons de récupérer des informations !\n",
    "\n",
    "Vous pouvez ouvrir manuellement [la page](https://alxdrdelaporte.github.io/) dans le navigateur de votre choix pour en inspecter le code source avec les outils de développement, ou consulter directement le [code source de la page web sur Github](https://github.com/alxdrdelaporte/alxdrdelaporte.github.io/blob/master/index.html).\n",
    "\n",
    "Nous allons nous attaquer au nom de l'auteur du site (et du présent exercice). Lorsqu'on observe la page web, celui-ci se trouve sous la photo, dans l'encart présenté en colonne de gauche. Le voici dans le code source :\n",
    "\n",
    "```html\n",
    "<h4 class=\"card-title\"><strong>Alexander Delaporte</strong></h4>\n",
    "```\n",
    "\n",
    "Pour cibler un élément particulier, il faut utiliser la méthode `find_element()` de `driver`. Celle-ci prend deux paramètres :\n",
    "\n",
    "* Un objet de la classe `By` qui définit sur quelle caractéristique se baser pour identifier l'élément ([*locator*](https://www.selenium.dev/documentation/webdriver/elements/locators/), dans le jargon de `selenium`). Par exemple, si l'on essaie de récupérer un élément HTML sur la base de son identifiant, ce sera `By.ID`. \n",
    "* La valeur du *locator* de l'élément dans le code source.\n",
    "\n",
    "Concrètement, l'élément que nous avons ici a 2 locators facilement repérables : son tag *h4* et sa classe *card-title*. "
   ]
  },
  {
   "cell_type": "code",
   "execution_count": null,
   "id": "d93f7754-2f07-4583-a9a7-1abe396e67df",
   "metadata": {},
   "outputs": [],
   "source": [
    "nom_element = driver.find_element(By.TAG_NAME, \"h4\")\n",
    "print(nom_element.text)"
   ]
  },
  {
   "cell_type": "code",
   "execution_count": null,
   "id": "2431d1c3-c6f7-4d3f-bc70-6cd896e3e6e2",
   "metadata": {},
   "outputs": [],
   "source": [
    "nom_element = driver.find_element(By.CLASS_NAME, \"card-title\")\n",
    "print(nom_element.text)"
   ]
  },
  {
   "cell_type": "code",
   "execution_count": null,
   "id": "6f44ea19-2611-44ed-ae18-42b36030a6a9",
   "metadata": {},
   "outputs": [],
   "source": [
    "# Un autre locator pourrait être exploité, l'avez-vous trouvé ? \n",
    "# Faites des essais en remplaçant les XXX dans l'extrait de code ci-dessous\n",
    "\n",
    "nom_element = driver.find_element(By.TAG_NAME, \"strong\")\n",
    "print(nom_element.text)"
   ]
  },
  {
   "cell_type": "markdown",
   "id": "308c4185-98d7-4983-ac5e-685be9d1e0cb",
   "metadata": {},
   "source": [
    "*Note* : la syntaxe `.text` indique que `text` est un attribut de `nom_element`. Celui-ci correspond au contenu textuel de l'élément, lorsqu'il existe."
   ]
  },
  {
   "cell_type": "code",
   "execution_count": null,
   "id": "5a5816d2-72ad-4110-9af2-bb01136d67ba",
   "metadata": {},
   "outputs": [],
   "source": [
    "nom = nom_element.text"
   ]
  },
  {
   "cell_type": "code",
   "execution_count": null,
   "id": "81f95ce3-2a54-465e-b699-f02478b8fe5b",
   "metadata": {},
   "outputs": [],
   "source": [
    "f\"Le site alxdrdelaporte.github.io appartient à {nom}\""
   ]
  },
  {
   "cell_type": "markdown",
   "id": "99957d7a-cd43-44ab-9f02-e42b76b0d7ae",
   "metadata": {},
   "source": [
    "Mais qu'est-ce que l'option `--headless` ? Commentez la ligne `options.add_argument('--headless')` dans la déclaration de la fonction `set_driver()` et regardez ce qu'il se passe, la différence devrait vous sauter aux yeux ! N'oubliez pas de commencer par réexécuter les cellules contenant la déclaration de `set_driver()` et celle de `driver` pour les actualiser."
   ]
  },
  {
   "cell_type": "markdown",
   "id": "db35c3d5-75eb-4344-8107-7477eaa7a112",
   "metadata": {},
   "source": [
    "### Planifier la navigation à automatiser\n",
    "\n",
    "Mettons notre `driver` de côté pour le moment.\n",
    "\n",
    "Avant de mettre en place la navigation automatique, le plus simple est de commencer par effectuer le parcours manuellement. Ouvrez [ce joli site web](https://alxdrdelaporte.github.io/works/manchot_empereur.html) dans votre navigateur et promenez-vous dessus jusqu'à trouver comment afficher un court texte sur les manchots empereurs, disponible en huit langues différentes. Ce sont ces huit versions du texte qui vont composer notre corpus textuel multilingue.\n",
    "\n",
    "![Page web montrant la liste des textes](textes_manchot.png \"La liste des textes\")\n",
    "\n",
    "Maintenant que vous avez une idée assez claire du parcours à suivre pour récupérer les données, vous pouvez vous pencher sur l'automatisation. Gardez quand même votre navigateur ouvert pour consulter le code source, vous en aurez besoin."
   ]
  },
  {
   "cell_type": "markdown",
   "id": "766f9741-541f-4fa3-b9ad-aef9b4ad4f74",
   "metadata": {},
   "source": [
    "### Préparer le navigateur virtuel\n",
    "\n",
    "... En fait, c'est déjà fait !\n",
    "\n",
    "Vous pouvez reprendre le `driver` que vous avez utilisé précédemment. Il est généralement plus prudent d'activer l'option `--headless` pour ne pas interagir par erreur avec le navigateur virtuel, mais vous pouvez la désactiver pendant la réalisation de l'exercice pour avoir une meilleure visibilité sur votre travail.\n",
    "\n",
    "Si vous voulez modifier votre choix d'option pour `driver`, pensez à actualiser `set_driver()` et `driver` en réexécutant les cellules correspondantes.\n",
    "\n",
    "Dans la cellule ci-dessous, faites en sorte que `driver` accède à l'URL du site."
   ]
  },
  {
   "cell_type": "code",
   "execution_count": null,
   "id": "5f7fbbb4-6767-490d-84df-cc0a2694b6fa",
   "metadata": {},
   "outputs": [],
   "source": [
    "# Envoyez driver sur l'URL du lien \"ce joli site web\"\n",
    "\n",
    "url = \"https://alxdrdelaporte.github.io/works/manchot_empereur.html\"\n",
    "driver.get(url)"
   ]
  },
  {
   "cell_type": "markdown",
   "id": "0dd99af4-103f-4f2e-a46b-a50ea40adc31",
   "metadata": {},
   "source": [
    "## Compléter et valider le formulaire pour accéder à la liste des textes disponibles\n",
    "\n",
    "La page d'accueil du site comporte un formulaire, qu'il faut remplir pour accéder à la liste des textes. Le formulaire se compose de 3 éléments :\n",
    "\n",
    "1. Un champ texte à compléter avec le texte demandé\n",
    "2. Une checkbox à cocher\n",
    "3. Un bouton sur lequel cliquer pour valider le tout\n",
    "\n",
    "### Remplir le champ texte\n",
    "\n",
    "Commençons par le champ texte. Utilisez la méthode `find_element()` pour identifier l'élément HTML correspondant et l'associer à la variable `champ_texte`."
   ]
  },
  {
   "cell_type": "code",
   "execution_count": null,
   "id": "8ba5015f-075a-4b13-b2c9-cc0e127f3a5f",
   "metadata": {},
   "outputs": [],
   "source": [
    "# Associez à la variable champ_texte le champ texte du formulaire\n",
    "\n",
    "# Note : si un élément HTML a un attribut id, c'est souvent le meilleur locator à exploiter\n",
    "champ_texte = driver.find_element(By.ID, \"textInput\")"
   ]
  },
  {
   "cell_type": "markdown",
   "id": "7312bf51-9a65-40b9-a0cf-001ceb26ac16",
   "metadata": {},
   "source": [
    "S'il n'y a pas d'erreur, `driver` a bien trouvé un élément, mais comment s'assurer qu'il s'agit bien de ce champ texte ? \n",
    "\n",
    "La méthode `find_element()` retourne un objet `WebElement`. Ces objets ont une méthode `get_dom_attribute()` qui permet de consulter la valeur d'un attribut de l'élément. Sa syntaxe est la suivante : `nom_webelement.get_dom_attribute(\"nom de l'attribut\")`.\n",
    "\n",
    "Il se trouve qu'un des attributs du champ texte du formulaire est particulièrement efficace pour l'identifier sans doute possible. Repérez-le dans le code source et complétez la cellule ci-dessous."
   ]
  },
  {
   "cell_type": "code",
   "execution_count": null,
   "id": "964ec258-27d4-407b-9fa3-f77eab9c3097",
   "metadata": {},
   "outputs": [],
   "source": [
    "# Utilisez get_dom_attribute() pour afficher la valeur de l'attribut qui permet de confirmer que champ_texte correspond bien au champ texte\n",
    "\n",
    "champ_texte.get_dom_attribute(\"placeholder\")"
   ]
  },
  {
   "cell_type": "markdown",
   "id": "7fcf10cb-4dc6-423d-bf73-903e43272bf3",
   "metadata": {},
   "source": [
    "C'est bien lui ? Parfait !\n",
    "\n",
    "Il faut maintenant le compléter avec le texte demandé. Concrètement, ceci nécessite d'appuyer sur une série de touches du clavier : c'est ce à quoi sert la méthode `send_keys()`, qui prend en paramètre la séquence de touches à envoyer. C'est une méthode de la classe `WebElement`, elle est donc disponible pour `champ_texte`. \n",
    "\n",
    "Utilisez `send_keys()` pour remplir le champ texte. Le type `str` est accepté en paramètre."
   ]
  },
  {
   "cell_type": "code",
   "execution_count": null,
   "id": "a7698c39-94d4-42ba-8c03-5e29baf3cbc9",
   "metadata": {},
   "outputs": [],
   "source": [
    "# Complétez le champ texte\n",
    "\n",
    "champ_texte.send_keys(\"J'aime les manchots empereurs !\")"
   ]
  },
  {
   "cell_type": "markdown",
   "id": "971da6b0-8676-4b43-afb0-5705a9a8bee8",
   "metadata": {},
   "source": [
    "Si vous n'avez pas activé l'option `--headless` de votre `driver`, vous pouvez voir directement si ça a fonctionné ou non. Sinon, ce sera au moment de valider le formulaire que vous saurez s'il n'y a pas de problème.\n",
    "\n",
    "### Cocher la checkbox\n",
    "\n",
    "Le champ texte est correctement rempli, mais ce n'est pas suffisant : avant de valider, il faut encore cocher la checkbox, c'est-à-dire cliquer dessus.\n",
    "\n",
    "Le principe reste le même, il faut en premier lieu repérer l'élément dans le code source et l'associer à une variable. Dans la cellule ci-dessous, associez l'élément correspondant à la checkbox à la variable `checkbox`."
   ]
  },
  {
   "cell_type": "code",
   "execution_count": null,
   "id": "59de4937-a363-4592-b901-a7d9ae91ed7c",
   "metadata": {},
   "outputs": [],
   "source": [
    "# Associez la checkbox du formulaire à la variable checkbox\n",
    "\n",
    "checkbox = driver.find_element(By.ID, \"checkInput\")"
   ]
  },
  {
   "cell_type": "markdown",
   "id": "8f7c1cf7-2f79-4d22-8335-618b149f1e9a",
   "metadata": {},
   "source": [
    "C'était le plus compliqué pour cette étape, puisque la méthode `click()` (de la classe `WebElement`) va nous permettre de cliquer dessus.\n",
    "\n",
    "Cliquez sur la checkbox :"
   ]
  },
  {
   "cell_type": "code",
   "execution_count": null,
   "id": "876406ed-b224-45cc-b024-13ee8dcdb3a5",
   "metadata": {},
   "outputs": [],
   "source": [
    "# Cliquez sur la checkbox\n",
    "\n",
    "checkbox.click()"
   ]
  },
  {
   "cell_type": "markdown",
   "id": "c295d90a-bfe5-4325-86f8-7339d11f4c43",
   "metadata": {},
   "source": [
    "Comme pour le champ texte, si votre `driver` n'a pas l'option `--headless` vous pouvez vérifier immédiatement que la case est bien cochée, sinon il faudra attendre un peu.\n",
    "\n",
    "### Valider le formulaire\n",
    "\n",
    "Si tout s'est bien passé, le formulaire est prêt à être envoyé et devrait nous permettre d'accéder à la liste des textes. \n",
    "\n",
    "En utilisant la même méthode que pour la checkbox, cliquez sur le bouton d'envoi du formulaire. *Note :* pour vérifier que vous avez bien récupéré le bouton, l'attribut `text` évoqué précédemment pourrait vous être utile.\n"
   ]
  },
  {
   "cell_type": "code",
   "execution_count": null,
   "id": "d65bfa6d-c4d0-4825-b4f3-a27493bf3448",
   "metadata": {},
   "outputs": [],
   "source": [
    "# Associez le bouton à la variable\n",
    "# Passez en paramètre de print() de quoi vérifier que bouton_valider correspond effectivement au bouton d'envoi du formulaire\n",
    "# Cliquez sur le bouton\n",
    "\n",
    "bouton_valider = driver.find_element(By.ID, \"submitBtn\")\n",
    "print(bouton_valider.text)\n",
    "bouton_valider.click()"
   ]
  },
  {
   "cell_type": "markdown",
   "id": "6334e29e-fdce-45d8-a1a2-d5534c5c8e9c",
   "metadata": {},
   "source": [
    "## Ouvrir chaque fenêtre de texte pour en récupérer le contenu\n",
    "\n",
    "**Bravo, vous êtes digne d'accéder à la connaissance ! 🐧** ***... Mais êtes-vous digne d'extraire automatiquement les huit textes qui se cachent derrière ces boutons ?***\n",
    "\n",
    "Commençons par un petit échauffement :\n",
    "\n",
    "1. Utilisez `find_element()` pour associer un bouton à la variable `un_bouton`.\n",
    "2. À l'aide de la méthode `get_dom_attribute()` ou de l'attribut `text`, vérifiez de quel bouton il s'agit."
   ]
  },
  {
   "cell_type": "code",
   "execution_count": null,
   "id": "c2a549cb-5e6d-4112-8308-a83c82d6c18b",
   "metadata": {},
   "outputs": [],
   "source": [
    "# Associez un bouton à la variable un_bouton\n",
    "\n",
    "# Je vous montre plusieurs possibilités avec leurs résultats respectifs dans la cellule suivante\n",
    "un_bouton = driver.find_element(By.ID, \"testButton\")\n",
    "un_autre_bouton = driver.find_element(By.CLASS_NAME, \"btn\")\n",
    "meme_valeur_que_un_bouton = driver.find_element(By.CSS_SELECTOR, \"button[lang]\")\n",
    "meme_valeur_que_un_autre_bouton = driver.find_element(By.TAG_NAME, \"button\")"
   ]
  },
  {
   "cell_type": "code",
   "execution_count": null,
   "id": "93d42abe-15aa-4578-8e83-09a36991c184",
   "metadata": {},
   "outputs": [],
   "source": [
    "# Vérifiez de quel bouton il s'agit\n",
    "\n",
    "print(f\"Texte du bouton associé à la variable un_bouton = '{un_bouton.text}'\")\n",
    "print(f\"(et en utilisant get_dom_attribute = '{un_bouton.get_dom_attribute(\"lang\")}')\")\n",
    "print(f\"Texte du bouton associé à la variable un_autre_bouton = '{un_autre_bouton.text}'\")\n",
    "print(f\"Texte du bouton associé à la variable meme_valeur_que_un_bouton = '{meme_valeur_que_un_bouton.text}'\")\n",
    "print(f\"Texte du bouton associé à la variable meme_valeur_que_un_autre_bouton = '{meme_valeur_que_un_autre_bouton.text}'\")\n",
    "\n",
    "print(f\"\\n\\nBonus ! Quel est le bouton dont l'attribut text renvoie une chaîne vide ? Vérifions s'il a un attribut id.\")\n",
    "print(f\"Valeur de l'attribut id du bouton sans texte = {un_autre_bouton.get_dom_attribute('id')}\")"
   ]
  },
  {
   "cell_type": "markdown",
   "id": "0ae545c1-0776-4f1b-b5c6-1b1a293315ed",
   "metadata": {},
   "source": [
    "Quels paramètres avez-vous utilisé pour la méthode `find_element()`, et quel bouton avez-vous récupéré ?\n",
    "\n",
    "### Obtenir la liste des boutons\n",
    "\n",
    "Avec `find_element()`, d'une façon ou d'une autre vous avez probablement fini par récupérer le premier bouton... voire un autre bouton dont l'attribut `text` est vide si vous avez essayé de passer `By.TAG_NAME, \"button\"` en paramètres (si c'est le cas, avez-vous compris de quel bouton il s'agit ? **Réponse :** c'est le bouton de validation du formulaire, qui n'apparaît plus sur la page mais est encore présent dans le code source, cf vérification faite dans la cellule ci-dessus). Et les autres ? `find_element()` renvoie un élément unique, et comme le code source de ces boutons est très similaire, difficile d'en viser un en particulier.\n",
    "\n",
    "Vous avez certainement compris que récupérer individuellement chaque bouton n'est pas adapté dans ce cas, d'autant plus qu'il va falloir ensuite leur appliquer un traitement identique. Nous allons plutôt utiliser la méthode `find_elements()` de `driver`, semblable à `find_element()` mais qui retourne une liste (type `list`) de l'ensemble des éléments du code source correspondant au critère passé en paramètre.\n",
    "\n",
    "Complétez la cellule ci-dessous pour que `boutons` corresponde à la liste des boutons :"
   ]
  },
  {
   "cell_type": "code",
   "execution_count": null,
   "id": "3630bb66-1cf7-453b-bbd5-4f4dd82a28fd",
   "metadata": {},
   "outputs": [],
   "source": [
    "# Remplacez XXX pour que boutons corresponde à l'ensemble des boutons\n",
    "\n",
    "# Plusieurs solutions possibles\n",
    "# Les solutions ci-dessous inluent le bouton d'envoi du formulaire\n",
    "boutons = driver.find_elements(By.TAG_NAME, \"button\")\n",
    "boutons = driver.find_elements(By.CLASS_NAME, \"btn\")\n",
    "\n",
    "# Les solutions ci-dessous inluent le bouton d'envoi du formulaire\n",
    "# Elles seront plus efficaces pour ce que nous voulons faire ici\n",
    "boutons = driver.find_elements(By.CLASS_NAME, \"btn-secondary\")\n",
    "boutons = driver.find_elements(By.CSS_SELECTOR, \"button[lang]\")"
   ]
  },
  {
   "cell_type": "markdown",
   "id": "706cbd84-cc02-4b5e-a44a-d6b8e1067ef7",
   "metadata": {},
   "source": [
    "Il y a huit boutons, la liste `bouton` devrait donc contenir 8 éléments. Dans la cellule ci-dessous, affichez le nombre d'éléments que comporte la liste `boutons` :"
   ]
  },
  {
   "cell_type": "code",
   "execution_count": null,
   "id": "6b8ed47d-cb5c-4813-9218-27450216fbb7",
   "metadata": {},
   "outputs": [],
   "source": [
    "# Affichez le nombre d'éléments contenus dans la liste boutons\n",
    "# Note : c'est la dernière valeur déclarée pour la variable boutons qui est retenue\n",
    "\n",
    "len(boutons)"
   ]
  },
  {
   "cell_type": "markdown",
   "id": "751c4f0b-32da-452f-817a-e9d895866749",
   "metadata": {},
   "source": [
    "Avant de traiter l'ensemble des boutons, nous allons en choisir un avec lequel travailler dans un premier temps. Dans la cellule ci-dessous, associez le bouton de votre choix à la variable `bouton_test` et donnez l'instruction de cliquer dessus.\n",
    "\n",
    "Pour la valeur de `bouton_test`, vous pouvez au choix :\n",
    "\n",
    "* Reprendre la valeur de la variable `un_bouton` déclarée précédemment (sauf s'il s'agit du bouton dont l'attribut `text` n'a pas de valeur associée)\n",
    "* Utiliser la méthode `find_element()`\n",
    "* Ou, plus simple, sélectionner un item de la liste `boutons`"
   ]
  },
  {
   "cell_type": "code",
   "execution_count": null,
   "id": "110fb349-838c-4321-93c4-f991fb66b608",
   "metadata": {},
   "outputs": [],
   "source": [
    "# Exemples de possibilités pour récupérer un bouton en particulier\n",
    "\n",
    "bouton_francais = boutons[0]\n",
    "bouton_coreen = driver.find_element(By.CSS_SELECTOR, '[lang=\"coréen\"]')\n",
    "bouton_japonais = driver.find_element(By.XPATH, '//*[@lang=\"japonais\"]')\n",
    "\n",
    "# Associez le bouton de votre choix à la variable bouton_test\n",
    "# Cliquez dessus\n",
    "\n",
    "bouton_test = boutons[3]\n",
    "bouton_test.click()\n",
    "\n"
   ]
  },
  {
   "cell_type": "markdown",
   "id": "c7f569de-582c-46a0-af4c-132bedd113db",
   "metadata": {},
   "source": [
    "La fenêtre contenant le texte est apparue, mais à quel élément correspond-t-elle dans le code source ?\n",
    "\n",
    "Ouvrez manuellement [le site web](https://alxdrdelaporte.github.io/works/manchot_empereur.html) dans un onglet de votre navigateur, puis naviguez jusqu'à cliquer sur le même bouton et afficher la fenêtre de texte. Observez le code source de la page à l'aide de l'inspecteur de code de votre navigateur (`Ctrl + Shift + k` sous Firefox, `Ctrl + Shift + j` sous Chrome ou Edge).\n",
    "\n",
    "... La fenêtre n'y est pas ! Vous l'aviez peut-être déjà deviné en voyant son aspect graphique :\n",
    "\n",
    "![Page web avec une pop-up de texte](popup.png \"Pop-up version coréenne\")\n",
    "\n",
    "Il s'agit d'une fenêtre pop-up, c'est-à-dire une fenêtre modale dont l'ouverture est déclenchée par un script JavaScript.\n",
    "\n",
    "Comme `driver` ne change pas automatiquement de fenêtre, il est encore en train d'explorer la page qui se trouve maintenant en arrière-plan. Heureusement, il dispose d'un attribut `switch_to` qui permet de lui indiquer explicitement sur quoi se focaliser. La syntaxe à utiliser est  `driver.switch_to.focus`, où la propriété `focus` est à choisir parmi une liste de possibilités, par exemple `driver.switch_to.active_element` pour cibler l'élément actif.\n",
    "\n",
    "En vous aidant de la [documentation](https://www.selenium.dev/selenium/docs/api/py/webdriver_remote/selenium.webdriver.remote.switch_to.html#selenium.webdriver.remote.switch_to.SwitchTo), complétez la cellule ci-dessous pour forcer `driver` à explorer la fenêtre modale."
   ]
  },
  {
   "cell_type": "code",
   "execution_count": null,
   "id": "14e1a0e9-e1b6-48f1-a230-04a8b93bd66c",
   "metadata": {},
   "outputs": [],
   "source": [
    "# Remplacez XXX pour que driver se focalise sur la fenêtre modale\n",
    "# Faites un print du contenu textuel de la fenêtre modale pour vérifier que ça a fonctionné\n",
    "\n",
    "fenetre_modale = driver.switch_to.alert\n",
    "print(fenetre_modale.text)"
   ]
  },
  {
   "cell_type": "markdown",
   "id": "20f83ff5-2aa6-45c6-b3be-ccb10aea13eb",
   "metadata": {},
   "source": [
    "Si le texte a été récupéré correctement, vous pouvez refermer le pop-up en utilisant sa méthode `accept()` (action équivalente à cliquer sur son bouton *OK*)."
   ]
  },
  {
   "cell_type": "code",
   "execution_count": null,
   "id": "43171ff6-7a5f-4562-bf70-ea3fd78654cb",
   "metadata": {},
   "outputs": [],
   "source": [
    "# Refermez le pop-up\n",
    "\n",
    "fenetre_modale.accept()"
   ]
  },
  {
   "cell_type": "markdown",
   "id": "c9873107-85c6-4bcc-94b8-21e84eafbf0a",
   "metadata": {},
   "source": [
    "Maintenant que nous avons un traitement qui fonctionne pour un bouton, il est temps de l'appliquer à l'ensemble des boutons à l'aide d'une boucle `for` !\n",
    "\n",
    "Dans la cellule ci-dessous, commencez par écrire une boucle qui affiche le texte de chaque bouton (c'est-à-dire les noms des langues présents sur les boutons, pas le texte contenu dans le pop-up)."
   ]
  },
  {
   "cell_type": "code",
   "execution_count": null,
   "id": "99d7a255-20d1-4e6f-8af6-bb54f7810109",
   "metadata": {},
   "outputs": [],
   "source": [
    "# Affichez le texte de chaque bouton à l'aide d'une boucle for\n",
    "\n",
    "for bouton in boutons:\n",
    "    print(bouton.text)"
   ]
  },
  {
   "cell_type": "markdown",
   "id": "86f10fbb-bfa9-472e-ab79-b0453aff84c7",
   "metadata": {},
   "source": [
    "Ça fonctionne ? Il ne reste plus qu'à tout rassembler. Conservez la boucle, mais remplacez l'instruction `print()` par le traitement que vous aviez appliqué à `bouton_test` pour afficher le texte de la fenêtre modale.\n",
    "\n",
    "<details>\n",
    "<summary>💡 Indice</summary>\n",
    "\n",
    "Les instructions à reporter sont, dans l'odre :\n",
    "\n",
    "1. Cliquer sur le bouton.\n",
    "2. Passer le focus de `driver` sur la fenêtre modale.\n",
    "3. Afficher le texte de la fenêtre modale.\n",
    "4. Refermer la fenêtre modale.\n",
    "\n",
    "</details>"
   ]
  },
  {
   "cell_type": "markdown",
   "id": "c589b71b-34f3-4613-a663-dbe8920439fc",
   "metadata": {},
   "source": [
    "**Facultatif : Vous devrez perfectionner cette boucle à plusieurs reprises par la suite. Vous pouvez tout à fait simplement copier-coller le code d'une cellule à l'autre, mais si vous préférez vous pouvez également créer une ou plusieurs fonctions.**"
   ]
  },
  {
   "cell_type": "code",
   "execution_count": null,
   "id": "1115f806-0871-4ec2-aca2-40627288829f",
   "metadata": {},
   "outputs": [],
   "source": [
    "# En vous basant sur la boucle précédente, appliquez votre traitement de bouton_test à l'ensemble des boutons\n",
    "\n",
    "for bouton in boutons:\n",
    "    bouton.click()\n",
    "    fenetre_modale = driver.switch_to.alert\n",
    "    print(fenetre_modale.text)\n",
    "    fenetre_modale.accept()"
   ]
  },
  {
   "cell_type": "markdown",
   "id": "97293ade-c18f-4dfe-bc58-f473d0efbaa5",
   "metadata": {},
   "source": [
    "Pas mal ! Cependant, extraire le texte ne constitue pas un corpus : en l'état, on ne pourrait pas effectuer d'analyse exploitable de ces contenus qui mélangent données et métadonnées, dans la plupart des cas exprimées dans des langues différentes.\n",
    "\n",
    "Regardez la sortie produite par la cellule précédente et/ou l'aspect du texte directement dans son pop-up sur le site. Voyez-vous un séparateur qui vous permettrait de séparer les différents éléments composant le contenu textuel ? Le texte extrait de la fenêtre modale étant de type `str`, vous pouvez utiliser la méthode `split()` vue précédemment pour le segmenter."
   ]
  },
  {
   "cell_type": "code",
   "execution_count": null,
   "id": "68ff8b53-1f3e-4a90-95b9-d03bf884d5cb",
   "metadata": {},
   "outputs": [],
   "source": [
    "# Copiez-collez le code de la cellule précédente\n",
    "# Modifiez-le pour segmenter le texte avant de l'afficher\n",
    "\n",
    "# Il y a une ligne vide entre les différents composants du texte (= 2 sauts de ligne)\n",
    "# Il faut donc passer '\\n\\n' comme paramètre de split() pour obtenir le résultat voulu\n",
    "for bouton in boutons:\n",
    "    bouton.click()\n",
    "    fenetre_modale = driver.switch_to.alert\n",
    "    donnees = fenetre_modale.text.split('\\n\\n')\n",
    "    print(donnees)\n",
    "    fenetre_modale.accept()"
   ]
  },
  {
   "cell_type": "markdown",
   "id": "ef832d98-5313-4179-8ba6-b4c0af686262",
   "metadata": {},
   "source": [
    "Vous devriez avoir, pour chaque version du texte, une liste dans laquelle chaque item correspond soit à une métadonnée, soit au texte à proprement parler. Modifiez votre boucle pour y associer les données et métadonnées à des variables, puis utilisez un `print()` pour vérifier que vos variables sont associées à la valeur attendue.\n",
    "\n",
    "<details>\n",
    "<summary>💡 Indice</summary>\n",
    "\n",
    "En plus du texte, chaque pop-up comporte un titre, une URL source et une licence. Vous pouvez donc par exemple utiliser les noms de variables `texte`, `titre`, `source` et `licence`.\n",
    "\n",
    "</details>"
   ]
  },
  {
   "cell_type": "code",
   "execution_count": null,
   "id": "12e5edd4-43bc-41bc-af89-c7be04a097f1",
   "metadata": {},
   "outputs": [],
   "source": [
    "# Copiez-collez le code de la cellule précédente\n",
    "# Modifiez-le pour associer les (méta)données à des variables\n",
    "\n",
    "for bouton in boutons:\n",
    "    bouton.click()\n",
    "    fenetre_modale = driver.switch_to.alert\n",
    "    donnees = fenetre_modale.text.split('\\n\\n')\n",
    "    titre = donnees[0]\n",
    "    texte = donnees[1]\n",
    "    source = donnees[2]\n",
    "    licence = donnees[3]\n",
    "    message = f\"TITRE = {titre}\\nTEXTE = {texte}\\nSOURCE = {source}\\nLICENCE = {licence}\\n\"\n",
    "    print(message)\n",
    "    fenetre_modale.accept()"
   ]
  },
  {
   "cell_type": "markdown",
   "id": "4fc0a02f-b28d-4d50-bb1e-44387a43d5bc",
   "metadata": {},
   "source": [
    "En fait, il y a une autre métadonnée intéressante à récupérer : l'indication de la langue à laquelle correspond chaque texte. Elle ne fait pas partie du contenu du pop-up, mais vous pouvez la récupérer dans le bouton. Dans la cellule ci-dessous, reprenez votre code et ajoutez-y la déclaration de la variable `langue`, dont la valeur est la langue dans laquelle est rédigée le texte correspondant à chaque bouton.\n",
    "\n",
    "Vous savez déjà récupérer l'indication telle qu'elle apparaît sur le bouton, mais il y a aussi un moyen d'obtenir le nom de la langue traduit en français. Pour l'extraire, la méthode `get_dom_attribute()` des objets `WebElement` vous sera utile : pour rappel, elle prend en paramètre le nom de l'attribut d'un `WebElement` et en retourne la valeur."
   ]
  },
  {
   "cell_type": "code",
   "execution_count": null,
   "id": "c58f0094-d4bb-4ca5-b586-838a480f8630",
   "metadata": {},
   "outputs": [],
   "source": [
    "# Copiez-collez le code de la cellule précédente\n",
    "# Modifiez-le pour ajouter la variable langue\n",
    "\n",
    "# Langue indiquée sur le bouton = attribut text du bouton\n",
    "# Nom de la langue traduit en français = attribut lang de l'élément HTML auquel correspond le bouton\n",
    "for bouton in boutons:\n",
    "    # Attention, ne pas cliquer avant de récupérer la langue\n",
    "    # Une fois le click() effectué, le bouton est n'est plus accessible à cause de la fenêtre modale\n",
    "    langue = bouton.text\n",
    "    langue_fr = bouton.get_dom_attribute(\"lang\")\n",
    "    bouton.click()\n",
    "    fenetre_modale = driver.switch_to.alert\n",
    "    donnees = fenetre_modale.text.split('\\n\\n')\n",
    "    titre = donnees[0]\n",
    "    texte = donnees[1]\n",
    "    source = donnees[2]\n",
    "    licence = donnees[3]\n",
    "    message = f\"TITRE = {titre}\\nTEXTE = {texte}\\nSOURCE = {source}\\nLICENCE = {licence}\\nLANGUE = {langue} ({langue_fr})\\n\"\n",
    "    print(message)\n",
    "    fenetre_modale.accept()"
   ]
  },
  {
   "cell_type": "markdown",
   "id": "73fd2bca-f53d-43a8-ab44-e66d724548bf",
   "metadata": {},
   "source": [
    "Dernier détail, les indications de l'URL source et de la licence telles qu'elles se présentent dans le pop-up comportent du texte superflu pour notre corpus.\n",
    "\n",
    "Dans la cellule suivante, reprenez à nouveau votre code et modifiez la déclaration des variables correspondant à l'URL source et à la licence pour que leurs valeurs respectives correspondent uniquement à l'URL (par exemple, *https://fr.wikipedia.org/wiki/Manchot_empereur* à la place de *Source : https://fr.wikipedia.org/wiki/Manchot_empereur*) et uniquement à la licence (par exemple, *CC BY-SA 4.0* à la place de *Licence = Sous licence CC BY-SA 4.0*). Une méthode de la classe `str` vue plus tôt vous permettra d'effectuer facilement cette modification."
   ]
  },
  {
   "cell_type": "code",
   "execution_count": null,
   "id": "de8f9ac4-ee11-41ec-8357-49d91f18db34",
   "metadata": {},
   "outputs": [],
   "source": [
    "# Copiez-collez le code de la cellule précédente\n",
    "# Modifiez-le pour nettoyer le texte de l'URL source et de la licence\n",
    "\n",
    "for bouton in boutons:\n",
    "    # Attention, ne pas cliquer avant de récupérer la langue\n",
    "    # Une fois le click() effectué, le bouton est n'est plus accessible à cause de la fenêtre modale\n",
    "    langue = bouton.text\n",
    "    langue_fr = bouton.get_dom_attribute(\"lang\")\n",
    "    bouton.click()\n",
    "    fenetre_modale = driver.switch_to.alert\n",
    "    donnees = fenetre_modale.text.split('\\n\\n')\n",
    "    titre = donnees[0]\n",
    "    texte = donnees[1]\n",
    "    source = donnees[2].replace(\"Source : \", \"\")\n",
    "    licence = donnees[3].replace(\"Sous licence \", \"\")\n",
    "    message = f\"TITRE = {titre}\\nTEXTE = {texte}\\nSOURCE = {source}\\nLICENCE = {licence}\\nLANGUE = {langue} ({langue_fr})\\n\"\n",
    "    print(message)\n",
    "    fenetre_modale.accept()"
   ]
  },
  {
   "cell_type": "markdown",
   "id": "9cbf66a0-4f9c-46bc-85f1-95a5ab107c8e",
   "metadata": {},
   "source": [
    "Le plus dur est fait : nous avons toutes les données nécessaires pour constituer notre corpus. Seulement, elles ne sont pour l'instant stockées nulle part, ce qui n'est pas pratique et va grandement compliquer les choses pour leurs appliquer d'éventuels traitements par la suite. \n",
    "\n",
    "Dans la cellule ci-dessous, une liste vide `donnees_corpus` est déjà déclarée. Sans modifier la déclaration de la liste, utilisez à nouveau votre boucle `for` afin d'extraire les données, en ma modifiant de cette façon :\n",
    "\n",
    "* Remplacez l'instruction `print()` par la déclaration d'un dictionnaire `donnees_texte` contenant les (méta)données extraites.\n",
    "* Ajoutez `donnees_texte` à la liste `donnees_corpus`."
   ]
  },
  {
   "cell_type": "code",
   "execution_count": null,
   "id": "ee7f7f71-4cbe-4c6e-89da-de0fb299d22a",
   "metadata": {},
   "outputs": [],
   "source": [
    "donnees_corpus = []\n",
    "\n",
    "# Copiez-collez le code de la cellule précédente\n",
    "# Modifiez-le pour stocker les données dans un dictionnaire donnees_texte, puis ajouter le dictionnaire à la liste donnees_corpus\n",
    "\n",
    "for bouton in boutons:\n",
    "    # Attention, ne pas cliquer avant de récupérer la langue\n",
    "    # Une fois le click() effectué, le bouton est n'est plus accessible à cause de la fenêtre modale\n",
    "    langue = bouton.text\n",
    "    langue_fr = bouton.get_dom_attribute(\"lang\")\n",
    "    bouton.click()\n",
    "    fenetre_modale = driver.switch_to.alert\n",
    "    donnees = fenetre_modale.text.split('\\n\\n')\n",
    "    titre = donnees[0]\n",
    "    texte = donnees[1]\n",
    "    source = donnees[2].replace(\"Source : \", \"\")\n",
    "    licence = donnees[3].replace(\"Sous licence \", \"\")\n",
    "    # Construire le dictionnaire\n",
    "    donnees_texte = {\n",
    "        \"titre\": titre,\n",
    "        \"texte\": texte,\n",
    "        \"source\": source,\n",
    "        \"licence\": licence,\n",
    "        \"langue\": langue,\n",
    "        \"langue_francais\": langue_fr\n",
    "    }\n",
    "    # L'ajouter à la liste donnees_corpus\n",
    "    donnees_corpus.append(donnees_texte)\n",
    "    fenetre_modale.accept()"
   ]
  },
  {
   "cell_type": "markdown",
   "id": "0adece5b-9e37-49b0-b048-2f24c63da9f3",
   "metadata": {},
   "source": [
    "Vérifiez le résultat obtenu en appelant la variable `donnees_corpus` :"
   ]
  },
  {
   "cell_type": "code",
   "execution_count": null,
   "id": "b0b809f2-335a-403d-979b-5f7092fa6d8c",
   "metadata": {},
   "outputs": [],
   "source": [
    "# Appelez donnees_corpus pour vérifier son contenu\n",
    "# (Si la lecture est trop inconfortable, vous pouvez aussi utiliser les 2 cellules suivantes sans les modifier pour l'exporter dans un fichier)\n",
    "\n",
    "donnees_corpus"
   ]
  },
  {
   "cell_type": "markdown",
   "id": "6b07688a-605d-44bc-948b-9c0444635e57",
   "metadata": {},
   "source": [
    "Voici une fonction qui vous permettra d'exporter les données dans un fichier texte. Vous pouvez l'utiliser, sans la modifier, pour visualiser plus confortablement le contenu de `donnees_corpus`. "
   ]
  },
  {
   "cell_type": "code",
   "execution_count": null,
   "id": "2da7f886-c9f7-406d-b99b-269891881c71",
   "metadata": {},
   "outputs": [],
   "source": [
    "def dicos2fichier(liste_dicos, fichier):\n",
    "    with open(fichier, \"w\", encoding=\"utf-8\") as cible:\n",
    "        for dico in liste_dicos:\n",
    "            for cle, valeur in dico.items():\n",
    "                cible.write(f\"{cle} = {valeur}\\n\")\n",
    "            cible.write(\"\\n----------\\n\\n\")"
   ]
  },
  {
   "cell_type": "code",
   "execution_count": null,
   "id": "d3a2fad6-734d-48ca-a4bb-99dff904279c",
   "metadata": {},
   "outputs": [],
   "source": [
    "# Décommentez la ligne ci-dessous pour exporter le contenu de donnees_corpus dans le fichier donnees_corpus.txt\n",
    "# dicos2fichier(donnees_corpus, \"donnees_corpus.txt\")"
   ]
  },
  {
   "cell_type": "markdown",
   "id": "6af540fb-779d-4e2c-9086-63d1314f8b5e",
   "metadata": {},
   "source": [
    "<div class=\"alert alert-block alert-success\"><center>🎉 Bravo, vous avez mis en place une navigation web automatique pour constituer les données d'un corpus textuel !</center></div>"
   ]
  },
  {
   "cell_type": "markdown",
   "id": "2c39928e-76d9-4174-b798-ef97cc95e75b",
   "metadata": {},
   "source": [
    "## Aller plus loin"
   ]
  },
  {
   "cell_type": "markdown",
   "id": "ab894737-e049-4171-a03e-b9f1d07e4ade",
   "metadata": {},
   "source": [
    "Vous avez terminé mais vous voulez encore vous amuser avec Python pour la constitution de corpus linguistique ?\n",
    "\n",
    "Voici quelques suggestions :\n",
    "\n",
    "* Essayez d'écrire des fonctions, si vous ne l'avez pas déjà fait. Vous pouvez répartir les traitements entre plusieurs fonctions ; pour information, il est possible d'appeler une fonction à l'intérieur d'une autre fonction.\n",
    "* Ajoutez une étape de validation de l'URL source, par exemple en vérifiant que le titre principal de la page web et celui du texte extrait du pop-up sont identiques.\n",
    "* Ici, les données ont été extraites et nettoyées mais pas vraiment structurées. Il ne manque pas grand chose pour en faire un corpus réellement exploitable, au format XML. Si vous souhaitez essayer, je vous conseille de partir de la liste `donnees_corpus` que vous avez déjà constituée, et de l'intégrer à une structure XML en vous aidant des documents suivants :\n",
    "  * [TP *Construire un corpus XML à partir du web*](https://github.com/alxdrdelaporte/LTTAC_2023_TP) (en particulier son [corrigé](https://github.com/alxdrdelaporte/LTTAC_2023_TP/blob/main/LTTAC_2023_TP_Solution.ipynb)).\n",
    "  * [Article *Produire un corpus web format XML en 15 lignes de code*](https://tekipaki.hypotheses.org/1758) sur [Tekipaki](https://tekipaki.hypotheses.org/).\n",
    "  * [Article *Déclaration XML automatique*](https://tekipaki.hypotheses.org/1897) sur [Tekipaki](https://tekipaki.hypotheses.org/).\n",
    "* Tout ce que vous voulez ! Si vous avez une autre idée, vous pouvez essayer de la mettre en place.  "
   ]
  },
  {
   "cell_type": "code",
   "execution_count": null,
   "id": "e8c0c7f6-f3d9-4ba5-9ec9-5fc832eacd7b",
   "metadata": {},
   "outputs": [],
   "source": [
    "# Voici 2 exemples de fonctions que vous pouvez écrire à partir de vos réponses\n",
    "\n",
    "def go_to_text_list(active_driver):\n",
    "    \"\"\"Remplit et envoie le formulaire permettant d'accéder à la liste des textes\"\"\"\n",
    "    active_driver.get(\"https://alxdrdelaporte.github.io/works/manchot_empereur.html\")\n",
    "    \n",
    "    champ_texte = active_driver.find_element(By.ID, \"textInput\")\n",
    "    champ_texte.send_keys(\"J'aime les manchots empereurs\")\n",
    "    \n",
    "    checkbox = active_driver.find_element(By.ID, \"checkInput\")\n",
    "    checkbox.click()\n",
    "    \n",
    "    bouton_valider = active_driver.find_element(By.ID, \"submitBtn\")\n",
    "    bouton_valider.click()\n",
    "\n",
    "\n",
    "def get_corpus_data(active_driver):\n",
    "    \"\"\"Récupère les données pour construire le corpus\"\"\"\n",
    "    donnees_corpus = []\n",
    "    \n",
    "    boutons = driver.find_elements(By.CSS_SELECTOR, \"button[lang]\")\n",
    "    \n",
    "    for bouton in boutons:\n",
    "        langue = bouton.text\n",
    "        langue_fr = bouton.get_dom_attribute(\"lang\")\n",
    "        bouton.click()\n",
    "        fenetre_modale = driver.switch_to.alert\n",
    "        donnees = fenetre_modale.text.split('\\n\\n')\n",
    "        titre = donnees[0]\n",
    "        texte = donnees[1]\n",
    "        source = donnees[2].replace(\"Source : \", \"\")\n",
    "        licence = donnees[3].replace(\"Sous licence \", \"\")\n",
    "        donnees_texte = {\n",
    "            \"titre\": titre,\n",
    "            \"texte\": texte,\n",
    "            \"source\": source,\n",
    "            \"licence\": licence,\n",
    "            \"langue\": langue,\n",
    "            \"langue_francais\": langue_fr\n",
    "        }\n",
    "        donnees_corpus.append(donnees_texte)\n",
    "        fenetre_modale.accept()\n",
    "\n",
    "    return donnees_corpus"
   ]
  },
  {
   "cell_type": "code",
   "execution_count": null,
   "id": "cf40c611-8791-4445-b3da-762281a3148d",
   "metadata": {},
   "outputs": [],
   "source": [
    "# Et voici comment les utiliser\n",
    "\n",
    "mon_driver = set_driver()\n",
    "go_to_text_list(mon_driver)\n",
    "mes_donnees = get_corpus_data(mon_driver)\n",
    "print(mes_donnees)"
   ]
  },
  {
   "cell_type": "code",
   "execution_count": null,
   "id": "2118e39e-fcfa-46e2-a4ae-944b3ae6069a",
   "metadata": {},
   "outputs": [],
   "source": [
    "# Vous pouvez même réunir le tout dans une autre fonction\n",
    "\n",
    "def make_corpus():\n",
    "    active_driver = set_driver()\n",
    "    go_to_text_list(active_driver)\n",
    "    donnees = get_corpus_data(active_driver)\n",
    "    return donnees\n",
    "\n",
    "mes_donnees = make_corpus()\n",
    "print(mes_donnees)"
   ]
  },
  {
   "cell_type": "markdown",
   "id": "da571ca6-0ce9-4137-a7f4-50a5d1586b65",
   "metadata": {},
   "source": [
    "---\n",
    "\n",
    "*Utiliser la navigation web automatique pour constituer un corpus* par Alexander Delaporte est mis à disposition selon les termes de la licence [Creative Commons CC BY-SA 4.0](https://creativecommons.org/licenses/by-sa/4.0/).\n",
    "\n",
    "[![CC BY-SA 4.0][cc-by-sa-image]][cc-by-sa]\n",
    "\n",
    "[cc-by-sa]: http://creativecommons.org/licenses/by-sa/4.0/\n",
    "[cc-by-sa-image]: https://licensebuttons.net/l/by-sa/4.0/88x31.png\n",
    "[cc-by-sa-shield]: https://img.shields.io/badge/License-CC%20BY--SA%204.0-lightgrey.svg"
   ]
  }
 ],
 "metadata": {
  "kernelspec": {
   "display_name": "Python 3 (ipykernel)",
   "language": "python",
   "name": "python3"
  },
  "language_info": {
   "codemirror_mode": {
    "name": "ipython",
    "version": 3
   },
   "file_extension": ".py",
   "mimetype": "text/x-python",
   "name": "python",
   "nbconvert_exporter": "python",
   "pygments_lexer": "ipython3",
   "version": "3.13.0"
  }
 },
 "nbformat": 4,
 "nbformat_minor": 5
}
